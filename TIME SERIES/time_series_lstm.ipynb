{
  "nbformat": 4,
  "nbformat_minor": 0,
  "metadata": {
    "colab": {
      "provenance": []
    },
    "kernelspec": {
      "name": "python3",
      "display_name": "Python 3"
    },
    "language_info": {
      "name": "python"
    }
  },
  "cells": [
    {
      "cell_type": "code",
      "execution_count": 36,
      "metadata": {
        "colab": {
          "base_uri": "https://localhost:8080/"
        },
        "id": "Q2qtTZGHXWWZ",
        "outputId": "8d0266e8-2745-44cb-cd41-3f1d1af1336a"
      },
      "outputs": [
        {
          "output_type": "stream",
          "name": "stdout",
          "text": [
            "Drive already mounted at /content/drive; to attempt to forcibly remount, call drive.mount(\"/content/drive\", force_remount=True).\n"
          ]
        }
      ],
      "source": [
        "from google.colab import drive\n",
        "drive.mount('/content/drive')"
      ]
    },
    {
      "cell_type": "code",
      "source": [
        "%cd '/content/drive/MyDrive/Dicoding/ML Pengembangan'"
      ],
      "metadata": {
        "colab": {
          "base_uri": "https://localhost:8080/"
        },
        "id": "XBCXEio_Z5eD",
        "outputId": "016a75a3-4292-4fce-8769-182986ce9bbd"
      },
      "execution_count": 37,
      "outputs": [
        {
          "output_type": "stream",
          "name": "stdout",
          "text": [
            "/content/drive/MyDrive/Dicoding/ML Pengembangan\n"
          ]
        }
      ]
    },
    {
      "cell_type": "code",
      "source": [
        "import numpy as np\n",
        "import pandas as pd\n",
        "\n",
        "from keras.layers import Dense, LSTM\n",
        "import matplotlib.pyplot as plt\n",
        "import tensorflow as tf"
      ],
      "metadata": {
        "id": "TS5SLVd4aI8R"
      },
      "execution_count": 57,
      "outputs": []
    },
    {
      "cell_type": "code",
      "source": [
        "df = pd.read_csv('AAPL.csv')\n",
        "print(df)"
      ],
      "metadata": {
        "colab": {
          "base_uri": "https://localhost:8080/"
        },
        "id": "IoP7w1I4aNmj",
        "outputId": "b90039e8-90da-4005-fc64-fac29738a1f4"
      },
      "execution_count": 58,
      "outputs": [
        {
          "output_type": "stream",
          "name": "stdout",
          "text": [
            "            Date        Open        High         Low       Close   Adj Close  \\\n",
            "0     1990-06-25    0.370536    0.372768    0.359375    0.368304    0.294235   \n",
            "1     1990-06-26    0.372768    0.375000    0.360491    0.362723    0.289777   \n",
            "2     1990-06-27    0.363839    0.375000    0.359375    0.370536    0.296018   \n",
            "3     1990-06-28    0.381696    0.386161    0.372768    0.383929    0.306718   \n",
            "4     1990-06-29    0.383929    0.400670    0.381696    0.399554    0.319201   \n",
            "...          ...         ...         ...         ...         ...         ...   \n",
            "8308  2023-06-16  186.729996  186.990005  184.270004  184.919998  184.919998   \n",
            "8309  2023-06-20  184.410004  186.100006  184.410004  185.009995  185.009995   \n",
            "8310  2023-06-21  184.899994  185.410004  182.589996  183.960007  183.960007   \n",
            "8311  2023-06-22  183.740005  187.050003  183.669998  187.000000  187.000000   \n",
            "8312  2023-06-23  185.550003  187.559998  185.009995  186.679993  186.679993   \n",
            "\n",
            "         Volume  \n",
            "0     122001600  \n",
            "1     127254400  \n",
            "2      97227200  \n",
            "3     249939200  \n",
            "4     325192000  \n",
            "...         ...  \n",
            "8308  101235600  \n",
            "8309   49799100  \n",
            "8310   49515700  \n",
            "8311   51245300  \n",
            "8312   53079300  \n",
            "\n",
            "[8313 rows x 7 columns]\n"
          ]
        }
      ]
    },
    {
      "cell_type": "code",
      "source": [
        "df.isnull().sum()"
      ],
      "metadata": {
        "colab": {
          "base_uri": "https://localhost:8080/"
        },
        "id": "x2sqeumxaU67",
        "outputId": "87f876f0-9c38-4767-c2f0-611a4d66b4b0"
      },
      "execution_count": 59,
      "outputs": [
        {
          "output_type": "execute_result",
          "data": {
            "text/plain": [
              "Date         0\n",
              "Open         0\n",
              "High         0\n",
              "Low          0\n",
              "Close        0\n",
              "Adj Close    0\n",
              "Volume       0\n",
              "dtype: int64"
            ]
          },
          "metadata": {},
          "execution_count": 59
        }
      ]
    },
    {
      "cell_type": "code",
      "source": [
        "is_NaN = df.isnull()\n",
        "row_has_NaN = is_NaN.any(axis=1)\n",
        "rows_with_NaN = df[row_has_NaN]\n",
        "\n",
        "print(rows_with_NaN)"
      ],
      "metadata": {
        "colab": {
          "base_uri": "https://localhost:8080/"
        },
        "id": "nb8X0vcyabFS",
        "outputId": "6835d322-6965-4d5a-d821-2a9699678300"
      },
      "execution_count": 60,
      "outputs": [
        {
          "output_type": "stream",
          "name": "stdout",
          "text": [
            "Empty DataFrame\n",
            "Columns: [Date, Open, High, Low, Close, Adj Close, Volume]\n",
            "Index: []\n"
          ]
        }
      ]
    },
    {
      "cell_type": "code",
      "source": [
        "print((df.Open[164]+df.Open[166])/2)"
      ],
      "metadata": {
        "colab": {
          "base_uri": "https://localhost:8080/"
        },
        "id": "zbST9IaGadLA",
        "outputId": "f28fe973-2eb5-4af5-bc75-f18626368fca"
      },
      "execution_count": 61,
      "outputs": [
        {
          "output_type": "stream",
          "name": "stdout",
          "text": [
            "0.5212055\n"
          ]
        }
      ]
    },
    {
      "cell_type": "code",
      "source": [
        "# Mengganti nilai NaN di kolom Open baris 165 dengan rata-rata yang didapatkan\n",
        "df = df.fillna(value = {'Open': 0.11160700000000001})\n",
        "\n",
        "#Mengecek apakah nilai sudah terganti\n",
        "df.Open[165]"
      ],
      "metadata": {
        "colab": {
          "base_uri": "https://localhost:8080/"
        },
        "id": "mTM4AHAiahQN",
        "outputId": "3a400e0f-83c8-4096-fb2c-ebd90072f975"
      },
      "execution_count": 62,
      "outputs": [
        {
          "output_type": "execute_result",
          "data": {
            "text/plain": [
              "0.513393"
            ]
          },
          "metadata": {},
          "execution_count": 62
        }
      ]
    },
    {
      "cell_type": "code",
      "source": [
        "df.info()"
      ],
      "metadata": {
        "colab": {
          "base_uri": "https://localhost:8080/"
        },
        "id": "Srsj6EbvbDRO",
        "outputId": "2535aaa4-b309-4550-93e9-7d6b6d012b18"
      },
      "execution_count": 63,
      "outputs": [
        {
          "output_type": "stream",
          "name": "stdout",
          "text": [
            "<class 'pandas.core.frame.DataFrame'>\n",
            "RangeIndex: 8313 entries, 0 to 8312\n",
            "Data columns (total 7 columns):\n",
            " #   Column     Non-Null Count  Dtype  \n",
            "---  ------     --------------  -----  \n",
            " 0   Date       8313 non-null   object \n",
            " 1   Open       8313 non-null   float64\n",
            " 2   High       8313 non-null   float64\n",
            " 3   Low        8313 non-null   float64\n",
            " 4   Close      8313 non-null   float64\n",
            " 5   Adj Close  8313 non-null   float64\n",
            " 6   Volume     8313 non-null   int64  \n",
            "dtypes: float64(5), int64(1), object(1)\n",
            "memory usage: 454.7+ KB\n"
          ]
        }
      ]
    },
    {
      "cell_type": "code",
      "source": [
        "# Plot data\n",
        "dates = df['Date'].values\n",
        "price = df['Open'].values\n",
        "\n",
        "plt.figure(figsize=(15,5))\n",
        "plt.plot(dates, price)\n",
        "plt.title('Open price average', fontsize=20);\n",
        ""
      ],
      "metadata": {
        "colab": {
          "base_uri": "https://localhost:8080/",
          "height": 476
        },
        "id": "W3aRnpD2bEls",
        "outputId": "a45e8cca-d564-442e-a577-b7f98e58af47"
      },
      "execution_count": 64,
      "outputs": [
        {
          "output_type": "display_data",
          "data": {
            "text/plain": [
              "<Figure size 1500x500 with 1 Axes>"
            ],
            "image/png": "[encoded data removed]"
          },
          "metadata": {}
        }
      ]
    },
    {
      "cell_type": "code",
      "source": [
        "# Membagi data menjadi training set dan validation set\n",
        "from sklearn.model_selection import train_test_split\n",
        "date_train, date_valid, price_train, price_valid = train_test_split(dates, price, train_size=0.8, test_size = 0.2, shuffle = False )\n",
        "\n",
        "\n",
        "# Mengubah format data\n",
        "def windowed_dataset(series, window_size, batch_size, shuffle_buffer):\n",
        "  series = tf.expand_dims(series, axis=-1)\n",
        "  ds = tf.data.Dataset.from_tensor_slices(series)\n",
        "  ds = ds.window(window_size + 1, shift=1, drop_remainder=True)\n",
        "  ds = ds.flat_map(lambda w: w.batch(window_size + 1))\n",
        "  ds = ds.shuffle(shuffle_buffer)\n",
        "  ds = ds.map(lambda w: (w[:-1], w[-1:]))\n",
        "  return ds.batch(batch_size).prefetch(1)"
      ],
      "metadata": {
        "id": "rUfCIHhGbJCF"
      },
      "execution_count": 65,
      "outputs": []
    },
    {
      "cell_type": "code",
      "source": [
        "from tensorflow.keras.preprocessing.text import Tokenizer\n",
        "from keras import regularizers\n",
        "\n",
        "train_set = windowed_dataset(price_train, window_size=60, batch_size=100, shuffle_buffer=1000)\n",
        "val_set = windowed_dataset(price_valid, window_size=60, batch_size=100, shuffle_buffer=1000)\n",
        "\n",
        "model = tf.keras.models.Sequential([\n",
        "  tf.keras.layers.Conv1D(filters=32, kernel_size=5,\n",
        "                      strides=1, padding=\"causal\",\n",
        "                      activation=\"relu\",\n",
        "                      input_shape=[None, 1]),\n",
        "  tf.keras.layers.LSTM(64, return_sequences=True),\n",
        "  tf.keras.layers.LSTM(64, return_sequences=True),\n",
        "  tf.keras.layers.Dense(30, activation=\"relu\"),\n",
        "  tf.keras.layers.Dense(10, activation=\"relu\"),\n",
        "  tf.keras.layers.Dense(1),\n",
        "  tf.keras.layers.Lambda(lambda x: x * 400)\n",
        "])\n",
        "\n",
        "optimizer = tf.keras.optimizers.SGD(learning_rate=1.0000e-04, momentum=0.9)\n",
        "model.compile(loss=tf.keras.losses.Huber(),\n",
        "              optimizer=optimizer,\n",
        "              metrics=[\"mae\"])\n",
        "\n",
        "model.summary()"
      ],
      "metadata": {
        "colab": {
          "base_uri": "https://localhost:8080/"
        },
        "id": "Ci5Hqkk7bNBg",
        "outputId": "8ed0c0d6-e5f4-4eb5-84bb-35bcb5a4a867"
      },
      "execution_count": 66,
      "outputs": [
        {
          "output_type": "stream",
          "name": "stdout",
          "text": [
            "Model: \"sequential_3\"\n",
            "_________________________________________________________________\n",
            " Layer (type)                Output Shape              Param #   \n",
            "=================================================================\n",
            " conv1d_1 (Conv1D)           (None, None, 32)          192       \n",
            "                                                                 \n",
            " lstm_8 (LSTM)               (None, None, 64)          24832     \n",
            "                                                                 \n",
            " lstm_9 (LSTM)               (None, None, 64)          33024     \n",
            "                                                                 \n",
            " dense_5 (Dense)             (None, None, 30)          1950      \n",
            "                                                                 \n",
            " dense_6 (Dense)             (None, None, 10)          310       \n",
            "                                                                 \n",
            " dense_7 (Dense)             (None, None, 1)           11        \n",
            "                                                                 \n",
            " lambda_1 (Lambda)           (None, None, 1)           0         \n",
            "                                                                 \n",
            "=================================================================\n",
            "Total params: 60319 (235.62 KB)\n",
            "Trainable params: 60319 (235.62 KB)\n",
            "Non-trainable params: 0 (0.00 Byte)\n",
            "_________________________________________________________________\n"
          ]
        }
      ]
    },
    {
      "cell_type": "code",
      "source": [
        "# Menghitung MAE\n",
        "MAE = 0.1*(max(df.Open)-min(df.Open))\n",
        "print(MAE)"
      ],
      "metadata": {
        "colab": {
          "base_uri": "https://localhost:8080/"
        },
        "id": "sphLiCxtbVUK",
        "outputId": "40a530e7-6b5c-4f14-adbb-b4e858770e4c"
      },
      "execution_count": 67,
      "outputs": [
        {
          "output_type": "stream",
          "name": "stdout",
          "text": [
            "18.6615041\n"
          ]
        }
      ]
    },
    {
      "cell_type": "code",
      "source": [
        "# Menerapkan callback\n",
        "class myCallback(tf.keras.callbacks.Callback):\n",
        "  def on_epoch_end(self, epoch, logs={}):\n",
        "    if(logs.get('mae')<MAE):\n",
        "      print(\"\\nMAE sudah dibawah \", MAE , \", train data diberhentikan.\")\n",
        "      self.model.stop_training = True\n",
        "\n",
        "callbacks = myCallback()"
      ],
      "metadata": {
        "id": "aF-fLMWdbZPh"
      },
      "execution_count": 68,
      "outputs": []
    },
    {
      "cell_type": "code",
      "source": [
        "history = model.fit(train_set, epochs=100, callbacks=[callbacks])"
      ],
      "metadata": {
        "colab": {
          "base_uri": "https://localhost:8080/"
        },
        "id": "R22hSvDFbm8R",
        "outputId": "28a90c05-00bb-429f-f999-b54fe31f7b0b"
      },
      "execution_count": 69,
      "outputs": [
        {
          "output_type": "stream",
          "name": "stdout",
          "text": [
            "Epoch 1/100\n",
            "     66/Unknown - 22s 239ms/step - loss: 8.7490 - mae: 9.2445\n",
            "MAE sudah dibawah  18.6615041 , train data diberhentikan.\n",
            "66/66 [==============================] - 22s 240ms/step - loss: 8.7490 - mae: 9.2445\n"
          ]
        }
      ]
    }
  ]
}